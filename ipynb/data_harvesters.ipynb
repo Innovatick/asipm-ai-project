{
  "nbformat": 4,
  "nbformat_minor": 0,
  "metadata": {
    "colab": {
      "provenance": [],
      "toc_visible": true
    },
    "kernelspec": {
      "name": "python3",
      "display_name": "Python 3"
    },
    "language_info": {
      "name": "python"
    }
  },
  "cells": [
    {
      "cell_type": "code",
      "source": [
        "# Data Harvesters, v1.7\n",
        "import gspread\n",
        "from google.oauth2.service_account import Credentials\n",
        "import pandas as pd\n",
        "import requests\n",
        "from datetime import datetime, timedelta\n",
        "import traceback\n",
        "import numpy as np\n",
        "\n",
        "# ==============================================================================\n",
        "# --- БЛОК 1: КОНФИГУРАЦИЯ И ПОДКЛЮЧЕНИЕ ---\n",
        "# ==============================================================================\n",
        "CREDS_FILE = 'credentials.json'\n",
        "SPREADSHEET_URL = \"https://docs.google.com/spreadsheets/d/1qBYS_DhGNsTo-Dnph3g_H27aHQOoY0EOcmCIKarb7Zc/\"\n",
        "SCOPE = ['https://www.googleapis.com/auth/spreadsheets', 'https://www.googleapis.com/auth/drive.file']\n",
        "\n",
        "def get_gsheets_client(creds_file, scope):\n",
        "    try:\n",
        "        creds = Credentials.from_service_account_file(creds_file, scopes=scope)\n",
        "        client = gspread.authorize(creds)\n",
        "        print(\"✅ Авторизация в Google Sheets прошла успешно.\")\n",
        "        return client\n",
        "    except Exception as e:\n",
        "        print(f\"❌ Ошибка авторизации Google: {e}\"); return None\n",
        "\n",
        "# ==============================================================================\n",
        "# --- БЛОК 2: ФУНКЦИИ-СБОРЩИКИ ---\n",
        "# ==============================================================================\n",
        "def get_moex_history(ticker: str, start_date: str, market: str, board: str) -> pd.DataFrame:\n",
        "    print(f\"  - Запрос истории для {ticker} ({market}/{board}) с даты {start_date}...\")\n",
        "    url = f\"https://iss.moex.com/iss/history/engines/stock/markets/{market}/boards/{board}/securities/{ticker}.json?from={start_date}&iss.meta=off\"\n",
        "    try:\n",
        "        response = requests.get(url)\n",
        "        response.raise_for_status()\n",
        "        data = response.json().get('history', {})\n",
        "        if not data.get('data'):\n",
        "            print(f\"    - ⚠️ Для {ticker} не вернулась история.\")\n",
        "            return pd.DataFrame()\n",
        "\n",
        "        cols = data['columns']\n",
        "        df = pd.DataFrame(data['data'], columns=cols)\n",
        "        # Выбираем только нужные столбцы\n",
        "        required_cols = ['TRADEDATE', 'OPEN', 'HIGH', 'LOW', 'CLOSE', 'VOLUME']\n",
        "        df = df[required_cols]\n",
        "        df.rename(columns={'TRADEDATE': 'Date'}, inplace=True)\n",
        "        return df\n",
        "    except Exception as e:\n",
        "        print(f\"    - ❌ Ошибка при получении истории для {ticker}: {e}\")\n",
        "        return pd.DataFrame()\n",
        "\n",
        "# ==============================================================================\n",
        "# --- БЛОК 3: ГЛАВНАЯ ЛОГИКА ---\n",
        "# ==============================================================================\n",
        "def main_history_updater():\n",
        "    print(\"\\n\" + \"=\"*50)\n",
        "    print(\"--- ✨ АСУП ИИ: Обновление Истории v1.8 (с санитизацией) ✨ ---\")\n",
        "    print(\"=\"*50)\n",
        "\n",
        "    client = get_gsheets_client(CREDS_FILE, SCOPE)\n",
        "    if not client: return\n",
        "\n",
        "    try:\n",
        "        spreadsheet = client.open_by_url(SPREADSHEET_URL)\n",
        "        holdings_sheet = spreadsheet.worksheet('Holdings')\n",
        "        history_sheet = spreadsheet.worksheet('History_OHLCV')\n",
        "    except Exception as e:\n",
        "        print(f\"❌ КРИТИЧЕСКАЯ ОШИБКА: Не могу открыть таблицу или листы. {e}\"); return\n",
        "\n",
        "    holdings_df = pd.DataFrame(holdings_sheet.get_all_records())\n",
        "    history_df = pd.DataFrame(history_sheet.get_all_records() if history_sheet.row_count > 1 else [])\n",
        "\n",
        "    tickers_to_process = holdings_df[holdings_df['Type'].isin(['Stock_MOEX', 'Bond_MOEX'])]['Ticker'].tolist()\n",
        "\n",
        "    new_history_rows = []\n",
        "\n",
        "    for ticker in tickers_to_process:\n",
        "        asset_type = holdings_df[holdings_df['Ticker'] == ticker]['Type'].iloc[0]\n",
        "        market, board = ('shares', 'TQBR') if asset_type == 'Stock_MOEX' else ('bonds', 'TQOB')\n",
        "\n",
        "        last_date_str = None\n",
        "        if not history_df.empty and 'Ticker' in history_df.columns:\n",
        "            last_date_str = history_df[history_df['Ticker'] == ticker]['Date'].max()\n",
        "\n",
        "        start_date = (datetime.strptime(last_date_str, '%Y-%m-%d') + timedelta(days=1)).strftime('%Y-%m-%d') if pd.notna(last_date_str) else (datetime.now() - timedelta(days=365)).strftime('%Y-%m-%d')\n",
        "\n",
        "        ticker_history_df = get_moex_history(ticker, start_date, market, board)\n",
        "\n",
        "        if not ticker_history_df.empty:\n",
        "            # ИСПРАВЛЕНИЕ: \"Санитизация\" данных перед записью\n",
        "            # Заменяем бесконечные значения на NaN (Not a Number)\n",
        "            ticker_history_df.replace([np.inf, -np.inf], np.nan, inplace=True)\n",
        "            # Заменяем NaN на пустую строку, чтобы gspread записал пустую ячейку\n",
        "            ticker_history_df.fillna('', inplace=True)\n",
        "\n",
        "            for _, row in ticker_history_df.iterrows():\n",
        "                new_history_rows.append([row['Date'], 'D1', ticker, row['OPEN'], row['HIGH'], row['LOW'], row['CLOSE'], row['VOLUME']])\n",
        "\n",
        "    if new_history_rows:\n",
        "        print(f\"\\n🔄 Найдено {len(new_history_rows)} новых записей. Добавляю в 'History_OHLCV'...\")\n",
        "        history_sheet.append_rows(new_history_rows, value_input_option='USER_ENTERED')\n",
        "        print(f\"✅ История успешно дополнена.\")\n",
        "    else:\n",
        "        print(\"✅ Новых исторических данных для акций и облигаций не найдено.\")\n",
        "\n",
        "    print(\"--- 🏁 РАБОТА ОБНОВИТЕЛЯ ИСТОРИИ ЗАВЕРШЕНА 🏁 ---\")\n",
        "\n",
        "if __name__ == \"__main__\":\n",
        "    main_history_updater()"
      ],
      "metadata": {
        "colab": {
          "base_uri": "https://localhost:8080/"
        },
        "id": "sJn1SDw4Zxlo",
        "outputId": "eabeab5b-028d-435a-ff83-db45e170c3f7"
      },
      "execution_count": 5,
      "outputs": [
        {
          "output_type": "stream",
          "name": "stdout",
          "text": [
            "\n",
            "==================================================\n",
            "--- ✨ АСУП ИИ: Обновление Истории v1.8 (с санитизацией) ✨ ---\n",
            "==================================================\n",
            "✅ Авторизация в Google Sheets прошла успешно.\n",
            "  - Запрос истории для GAZP (shares/TQBR) с даты 2024-06-09...\n",
            "  - Запрос истории для ROSN (shares/TQBR) с даты 2024-06-09...\n",
            "  - Запрос истории для SIBN (shares/TQBR) с даты 2024-06-09...\n",
            "  - Запрос истории для NVTK (shares/TQBR) с даты 2024-06-09...\n",
            "  - Запрос истории для SNGS (shares/TQBR) с даты 2024-06-09...\n",
            "  - Запрос истории для SNGSP (shares/TQBR) с даты 2024-06-09...\n",
            "  - Запрос истории для TATN (shares/TQBR) с даты 2024-06-09...\n",
            "  - Запрос истории для TRNFP (shares/TQBR) с даты 2024-06-09...\n",
            "  - Запрос истории для AFLT (shares/TQBR) с даты 2024-06-09...\n",
            "  - Запрос истории для GLTR (shares/TQBR) с даты 2024-06-09...\n"
          ]
        },
        {
          "output_type": "stream",
          "name": "stderr",
          "text": [
            "<ipython-input-5-18e9d920b1d0>:92: FutureWarning: Setting an item of incompatible dtype is deprecated and will raise an error in a future version of pandas. Value '' has dtype incompatible with float64, please explicitly cast to a compatible dtype first.\n",
            "  ticker_history_df.fillna('', inplace=True)\n"
          ]
        },
        {
          "output_type": "stream",
          "name": "stdout",
          "text": [
            "  - Запрос истории для SBER (shares/TQBR) с даты 2024-06-09...\n",
            "  - Запрос истории для SBERP (shares/TQBR) с даты 2024-06-09...\n",
            "  - Запрос истории для TCSG (shares/TQBR) с даты 2024-06-09...\n",
            "  - Запрос истории для MOEX (shares/TQBR) с даты 2024-06-09...\n",
            "  - Запрос истории для AFKS (shares/TQBR) с даты 2024-06-09...\n",
            "  - Запрос истории для YNDX (shares/TQBR) с даты 2024-06-09...\n"
          ]
        },
        {
          "output_type": "stream",
          "name": "stderr",
          "text": [
            "<ipython-input-5-18e9d920b1d0>:92: FutureWarning: Setting an item of incompatible dtype is deprecated and will raise an error in a future version of pandas. Value '' has dtype incompatible with float64, please explicitly cast to a compatible dtype first.\n",
            "  ticker_history_df.fillna('', inplace=True)\n"
          ]
        },
        {
          "output_type": "stream",
          "name": "stdout",
          "text": [
            "  - Запрос истории для MTSS (shares/TQBR) с даты 2024-06-09...\n",
            "  - Запрос истории для MGNT (shares/TQBR) с даты 2024-06-09...\n",
            "  - Запрос истории для FIVE (shares/TQBR) с даты 2024-06-09...\n",
            "  - Запрос истории для GMKN (shares/TQBR) с даты 2024-06-09...\n",
            "  - Запрос истории для PLZL (shares/TQBR) с даты 2024-06-09...\n",
            "  - Запрос истории для CHMF (shares/TQBR) с даты 2024-06-09...\n",
            "  - Запрос истории для PHOR (shares/TQBR) с даты 2024-06-09...\n",
            "  - Запрос истории для ОФЗ 26238 (bonds/TQOB) с даты 2024-06-09...\n",
            "    - ⚠️ Для ОФЗ 26238 не вернулась история.\n",
            "  - Запрос истории для ОФЗ 26227 (bonds/TQOB) с даты 2024-06-09...\n",
            "    - ⚠️ Для ОФЗ 26227 не вернулась история.\n",
            "  - Запрос истории для ОФЗ 29014 (bonds/TQOB) с даты 2024-06-09...\n",
            "    - ⚠️ Для ОФЗ 29014 не вернулась история.\n",
            "  - Запрос истории для ОФЗ 52005 (bonds/TQOB) с даты 2024-06-09...\n",
            "    - ⚠️ Для ОФЗ 52005 не вернулась история.\n",
            "\n",
            "🔄 Найдено 2221 новых записей. Добавляю в 'History_OHLCV'...\n",
            "✅ История успешно дополнена.\n",
            "--- 🏁 РАБОТА ОБНОВИТЕЛЯ ИСТОРИИ ЗАВЕРШЕНА 🏁 ---\n"
          ]
        }
      ]
    }
  ]
}